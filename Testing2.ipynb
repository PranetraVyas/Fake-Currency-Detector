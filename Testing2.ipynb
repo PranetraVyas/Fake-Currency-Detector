{
 "cells": [
  {
   "cell_type": "code",
   "execution_count": 1,
   "id": "1eed660a",
   "metadata": {},
   "outputs": [],
   "source": [
    "from tkinter import * \n",
    "from PIL import Image as PIL_Image\n",
    "from PIL import ImageTk\n",
    "import tkinter.filedialog as tkFileDialog\n",
    "from tkinter import messagebox\n",
    "import time"
   ]
  },
  {
   "cell_type": "code",
   "execution_count": 5,
   "id": "d8787eb6",
   "metadata": {},
   "outputs": [],
   "source": [
    "root = Tk()\n",
    "root.geometry(\"800x800\")\n",
    "\n",
    "root.mainloop()\n",
    "\n"
   ]
  }
 ],
 "metadata": {
  "kernelspec": {
   "display_name": "Python 3",
   "language": "python",
   "name": "python3"
  },
  "language_info": {
   "codemirror_mode": {
    "name": "ipython",
    "version": 3
   },
   "file_extension": ".py",
   "mimetype": "text/x-python",
   "name": "python",
   "nbconvert_exporter": "python",
   "pygments_lexer": "ipython3",
   "version": "3.12.3"
  }
 },
 "nbformat": 4,
 "nbformat_minor": 5
}
